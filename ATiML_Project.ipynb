{
 "cells": [
  {
   "cell_type": "code",
   "execution_count": 1,
   "id": "353af4fb-9584-42c7-be31-181fb6b0a4cf",
   "metadata": {},
   "outputs": [],
   "source": [
    "import pandas as pd\n",
    "import matplotlib.pyplot as plt"
   ]
  },
  {
   "cell_type": "code",
   "execution_count": 2,
   "id": "157e043f-c951-4136-98e4-78600f738838",
   "metadata": {},
   "outputs": [],
   "source": [
    "#Loading the dataset\n",
    "from sklearn.datasets import fetch_20newsgroups\n",
    "newsgroups__= fetch_20newsgroups(subset='all')\n",
    "newsgroups= fetch_20newsgroups(subset='all',remove=('headers', 'footers', 'quotes'))"
   ]
  },
  {
   "cell_type": "code",
   "execution_count": 3,
   "id": "fa197525-a406-4271-ad8b-49a393c5e304",
   "metadata": {},
   "outputs": [
    {
     "name": "stdout",
     "output_type": "stream",
     "text": [
      "['alt.atheism',\n",
      " 'comp.graphics',\n",
      " 'comp.os.ms-windows.misc',\n",
      " 'comp.sys.ibm.pc.hardware',\n",
      " 'comp.sys.mac.hardware',\n",
      " 'comp.windows.x',\n",
      " 'misc.forsale',\n",
      " 'rec.autos',\n",
      " 'rec.motorcycles',\n",
      " 'rec.sport.baseball',\n",
      " 'rec.sport.hockey',\n",
      " 'sci.crypt',\n",
      " 'sci.electronics',\n",
      " 'sci.med',\n",
      " 'sci.space',\n",
      " 'soc.religion.christian',\n",
      " 'talk.politics.guns',\n",
      " 'talk.politics.mideast',\n",
      " 'talk.politics.misc',\n",
      " 'talk.religion.misc']\n"
     ]
    }
   ],
   "source": [
    "from pprint import pprint\n",
    "pprint(list(newsgroups.target_names))"
   ]
  },
  {
   "cell_type": "code",
   "execution_count": 4,
   "id": "482683ef-893f-4340-b938-c86dc3c5fcfa",
   "metadata": {},
   "outputs": [
    {
     "data": {
      "text/plain": [
       "(18846,)"
      ]
     },
     "execution_count": 4,
     "metadata": {},
     "output_type": "execute_result"
    }
   ],
   "source": [
    "newsgroups.filenames.shape\n"
   ]
  },
  {
   "cell_type": "code",
   "execution_count": 5,
   "id": "7e9e960f-6e3c-4579-acfd-e21ac1d183b9",
   "metadata": {},
   "outputs": [
    {
     "data": {
      "text/plain": [
       "(18846,)"
      ]
     },
     "execution_count": 5,
     "metadata": {},
     "output_type": "execute_result"
    }
   ],
   "source": [
    "newsgroups.target.shape"
   ]
  },
  {
   "cell_type": "code",
   "execution_count": 6,
   "id": "5a808452-f0b9-4207-a6b4-07a3289dfc93",
   "metadata": {},
   "outputs": [
    {
     "data": {
      "text/plain": [
       "array([10,  3, 17,  3,  4, 12,  4, 10, 10, 19])"
      ]
     },
     "execution_count": 6,
     "metadata": {},
     "output_type": "execute_result"
    }
   ],
   "source": [
    "newsgroups.target[:10]\n"
   ]
  },
  {
   "cell_type": "code",
   "execution_count": 7,
   "id": "c1f2c1ce-03b0-4531-ba43-f34cee3833ee",
   "metadata": {},
   "outputs": [
    {
     "data": {
      "text/plain": [
       "\"\\n\\nI am sure some bashers of Pens fans are pretty confused about the lack\\nof any kind of posts about the recent Pens massacre of the Devils. Actually,\\nI am  bit puzzled too and a bit relieved. However, I am going to put an end\\nto non-PIttsburghers' relief with a bit of praise for the Pens. Man, they\\nare killing those Devils worse than I thought. Jagr just showed you why\\nhe is much better than his regular season stats. He is also a lot\\nfo fun to watch in the playoffs. Bowman should let JAgr have a lot of\\nfun in the next couple of games since the Pens are going to beat the pulp out of Jersey anyway. I was very disappointed not to see the Islanders lose the final\\nregular season game.          PENS RULE!!!\\n\\n\""
      ]
     },
     "execution_count": 7,
     "metadata": {},
     "output_type": "execute_result"
    }
   ],
   "source": [
    "newsgroups.data[0]"
   ]
  },
  {
   "cell_type": "code",
   "execution_count": 8,
   "id": "713409fa-e229-47a2-a297-7768e232d34e",
   "metadata": {},
   "outputs": [
    {
     "data": {
      "text/plain": [
       "'\\n\\n\\n\\n\\tFinally you said what you dream about. Mediterranean???? That was new....\\n\\tThe area will be \"greater\" after some years, like your \"holocaust\" numbers......\\n\\n\\n\\n\\n\\t\\t*****\\n\\tIs\\'t July in USA now????? Here in Sweden it\\'s April and still cold.\\n\\tOr have you changed your calendar???\\n\\n\\n\\t\\t\\t\\t\\t\\t    ****************\\n\\t\\t\\t\\t\\t\\t    ******************\\n\\t\\t\\t    ***************\\n\\n\\n\\tNOTHING OF THE MENTIONED IS TRUE, BUT LET SAY IT\\'s TRUE.\\n\\t\\n\\tSHALL THE AZERI WOMEN AND CHILDREN GOING TO PAY THE PRICE WITH\\n\\t\\t\\t\\t\\t\\t    **************\\n\\tBEING RAPED, KILLED AND TORTURED BY THE ARMENIANS??????????\\n\\t\\n\\tHAVE YOU HEARDED SOMETHING CALLED: \"GENEVA CONVENTION\"???????\\n\\tYOU FACIST!!!!!\\n\\n\\n\\n\\tOhhh i forgot, this is how Armenians fight, nobody has forgot\\n\\tyou killings, rapings and torture against the Kurds and Turks once\\n\\tupon a time!\\n      \\n       \\n\\n\\nOhhhh so swedish RedCross workers do lie they too? What ever you say\\n\"regional killer\", if you don\\'t like the person then shoot him that\\'s your policy.....l\\n\\n\\n\\t\\t\\t\\t\\t\\t\\t\\t\\t\\ti\\n\\t\\t\\t\\t\\t\\t\\t\\t\\t\\ti\\n\\t\\t\\t\\t\\t\\t\\t\\t\\t\\ti\\n\\tConfused?????\\t\\t\\t\\t\\t\\t\\t\\ti\\n\\t\\t\\t\\t\\t\\t\\t\\t\\t\\ti\\n        Search Turkish planes? You don\\'t know what you are talking about.\\ti\\n        Turkey\\'s government has announced that it\\'s giving weapons  <-----------i\\n        to Azerbadjan since Armenia started to attack Azerbadjan\\t\\t\\n        it self, not the Karabag province. So why search a plane for weapons\\t\\n        since it\\'s content is announced to be weapons?   \\n\\n\\tIf there is one that\\'s confused then that\\'s you! We have the right (and we do)\\n\\tto give weapons to the Azeris, since Armenians started the fight in Azerbadjan!\\n \\n\\n\\n\\tShoot down with what? Armenian bread and butter? Or the arms and personel \\n\\tof the Russian army?\\n\\n\\n'"
      ]
     },
     "execution_count": 8,
     "metadata": {},
     "output_type": "execute_result"
    }
   ],
   "source": [
    "newsgroups.data[2]"
   ]
  },
  {
   "cell_type": "code",
   "execution_count": 9,
   "id": "9b7ce29a-5c7b-4930-834d-a475beb19eda",
   "metadata": {},
   "outputs": [],
   "source": [
    "# Create a DataFrame from the dataset\n",
    "df = pd.DataFrame({'text': newsgroups.data, 'label': newsgroups.target})"
   ]
  },
  {
   "cell_type": "code",
   "execution_count": 10,
   "id": "29d665d8-27aa-4cb9-b73b-fbed45e6a92d",
   "metadata": {},
   "outputs": [
    {
     "data": {
      "text/html": [
       "<div>\n",
       "<style scoped>\n",
       "    .dataframe tbody tr th:only-of-type {\n",
       "        vertical-align: middle;\n",
       "    }\n",
       "\n",
       "    .dataframe tbody tr th {\n",
       "        vertical-align: top;\n",
       "    }\n",
       "\n",
       "    .dataframe thead th {\n",
       "        text-align: right;\n",
       "    }\n",
       "</style>\n",
       "<table border=\"1\" class=\"dataframe\">\n",
       "  <thead>\n",
       "    <tr style=\"text-align: right;\">\n",
       "      <th></th>\n",
       "      <th>text</th>\n",
       "      <th>label</th>\n",
       "    </tr>\n",
       "  </thead>\n",
       "  <tbody>\n",
       "    <tr>\n",
       "      <th>0</th>\n",
       "      <td>\\n\\nI am sure some bashers of Pens fans are pr...</td>\n",
       "      <td>10</td>\n",
       "    </tr>\n",
       "    <tr>\n",
       "      <th>1</th>\n",
       "      <td>My brother is in the market for a high-perform...</td>\n",
       "      <td>3</td>\n",
       "    </tr>\n",
       "    <tr>\n",
       "      <th>2</th>\n",
       "      <td>\\n\\n\\n\\n\\tFinally you said what you dream abou...</td>\n",
       "      <td>17</td>\n",
       "    </tr>\n",
       "    <tr>\n",
       "      <th>3</th>\n",
       "      <td>\\nThink!\\n\\nIt's the SCSI card doing the DMA t...</td>\n",
       "      <td>3</td>\n",
       "    </tr>\n",
       "    <tr>\n",
       "      <th>4</th>\n",
       "      <td>1)    I have an old Jasmine drive which I cann...</td>\n",
       "      <td>4</td>\n",
       "    </tr>\n",
       "  </tbody>\n",
       "</table>\n",
       "</div>"
      ],
      "text/plain": [
       "                                                text  label\n",
       "0  \\n\\nI am sure some bashers of Pens fans are pr...     10\n",
       "1  My brother is in the market for a high-perform...      3\n",
       "2  \\n\\n\\n\\n\\tFinally you said what you dream abou...     17\n",
       "3  \\nThink!\\n\\nIt's the SCSI card doing the DMA t...      3\n",
       "4  1)    I have an old Jasmine drive which I cann...      4"
      ]
     },
     "execution_count": 10,
     "metadata": {},
     "output_type": "execute_result"
    }
   ],
   "source": [
    "df.head(5)"
   ]
  },
  {
   "cell_type": "code",
   "execution_count": 11,
   "id": "b4bd4e8c-3ec1-4686-8921-a44979ba0b3f",
   "metadata": {},
   "outputs": [],
   "source": [
    "# Map target labels to target names\n",
    "df['labels'] = df['label'].map(lambda x: newsgroups.target_names[x])"
   ]
  },
  {
   "cell_type": "code",
   "execution_count": 12,
   "id": "2e804bea-5b63-4c4a-8340-d7458224f6b2",
   "metadata": {},
   "outputs": [
    {
     "data": {
      "text/html": [
       "<div>\n",
       "<style scoped>\n",
       "    .dataframe tbody tr th:only-of-type {\n",
       "        vertical-align: middle;\n",
       "    }\n",
       "\n",
       "    .dataframe tbody tr th {\n",
       "        vertical-align: top;\n",
       "    }\n",
       "\n",
       "    .dataframe thead th {\n",
       "        text-align: right;\n",
       "    }\n",
       "</style>\n",
       "<table border=\"1\" class=\"dataframe\">\n",
       "  <thead>\n",
       "    <tr style=\"text-align: right;\">\n",
       "      <th></th>\n",
       "      <th>text</th>\n",
       "      <th>label</th>\n",
       "      <th>labels</th>\n",
       "    </tr>\n",
       "  </thead>\n",
       "  <tbody>\n",
       "    <tr>\n",
       "      <th>0</th>\n",
       "      <td>\\n\\nI am sure some bashers of Pens fans are pr...</td>\n",
       "      <td>10</td>\n",
       "      <td>rec.sport.hockey</td>\n",
       "    </tr>\n",
       "    <tr>\n",
       "      <th>1</th>\n",
       "      <td>My brother is in the market for a high-perform...</td>\n",
       "      <td>3</td>\n",
       "      <td>comp.sys.ibm.pc.hardware</td>\n",
       "    </tr>\n",
       "    <tr>\n",
       "      <th>2</th>\n",
       "      <td>\\n\\n\\n\\n\\tFinally you said what you dream abou...</td>\n",
       "      <td>17</td>\n",
       "      <td>talk.politics.mideast</td>\n",
       "    </tr>\n",
       "    <tr>\n",
       "      <th>3</th>\n",
       "      <td>\\nThink!\\n\\nIt's the SCSI card doing the DMA t...</td>\n",
       "      <td>3</td>\n",
       "      <td>comp.sys.ibm.pc.hardware</td>\n",
       "    </tr>\n",
       "    <tr>\n",
       "      <th>4</th>\n",
       "      <td>1)    I have an old Jasmine drive which I cann...</td>\n",
       "      <td>4</td>\n",
       "      <td>comp.sys.mac.hardware</td>\n",
       "    </tr>\n",
       "    <tr>\n",
       "      <th>...</th>\n",
       "      <td>...</td>\n",
       "      <td>...</td>\n",
       "      <td>...</td>\n",
       "    </tr>\n",
       "    <tr>\n",
       "      <th>18841</th>\n",
       "      <td>DN&gt; From: nyeda@cnsvax.uwec.edu (David Nye)\\nD...</td>\n",
       "      <td>13</td>\n",
       "      <td>sci.med</td>\n",
       "    </tr>\n",
       "    <tr>\n",
       "      <th>18842</th>\n",
       "      <td>\\nNot in isolated ground recepticles (usually ...</td>\n",
       "      <td>12</td>\n",
       "      <td>sci.electronics</td>\n",
       "    </tr>\n",
       "    <tr>\n",
       "      <th>18843</th>\n",
       "      <td>I just installed a DX2-66 CPU in a clone mothe...</td>\n",
       "      <td>3</td>\n",
       "      <td>comp.sys.ibm.pc.hardware</td>\n",
       "    </tr>\n",
       "    <tr>\n",
       "      <th>18844</th>\n",
       "      <td>\\nWouldn't this require a hyper-sphere.  In 3-...</td>\n",
       "      <td>1</td>\n",
       "      <td>comp.graphics</td>\n",
       "    </tr>\n",
       "    <tr>\n",
       "      <th>18845</th>\n",
       "      <td>After a tip from Gary Crum (crum@fcom.cc.utah....</td>\n",
       "      <td>7</td>\n",
       "      <td>rec.autos</td>\n",
       "    </tr>\n",
       "  </tbody>\n",
       "</table>\n",
       "<p>18846 rows × 3 columns</p>\n",
       "</div>"
      ],
      "text/plain": [
       "                                                    text  label  \\\n",
       "0      \\n\\nI am sure some bashers of Pens fans are pr...     10   \n",
       "1      My brother is in the market for a high-perform...      3   \n",
       "2      \\n\\n\\n\\n\\tFinally you said what you dream abou...     17   \n",
       "3      \\nThink!\\n\\nIt's the SCSI card doing the DMA t...      3   \n",
       "4      1)    I have an old Jasmine drive which I cann...      4   \n",
       "...                                                  ...    ...   \n",
       "18841  DN> From: nyeda@cnsvax.uwec.edu (David Nye)\\nD...     13   \n",
       "18842  \\nNot in isolated ground recepticles (usually ...     12   \n",
       "18843  I just installed a DX2-66 CPU in a clone mothe...      3   \n",
       "18844  \\nWouldn't this require a hyper-sphere.  In 3-...      1   \n",
       "18845  After a tip from Gary Crum (crum@fcom.cc.utah....      7   \n",
       "\n",
       "                         labels  \n",
       "0              rec.sport.hockey  \n",
       "1      comp.sys.ibm.pc.hardware  \n",
       "2         talk.politics.mideast  \n",
       "3      comp.sys.ibm.pc.hardware  \n",
       "4         comp.sys.mac.hardware  \n",
       "...                         ...  \n",
       "18841                   sci.med  \n",
       "18842           sci.electronics  \n",
       "18843  comp.sys.ibm.pc.hardware  \n",
       "18844             comp.graphics  \n",
       "18845                 rec.autos  \n",
       "\n",
       "[18846 rows x 3 columns]"
      ]
     },
     "execution_count": 12,
     "metadata": {},
     "output_type": "execute_result"
    }
   ],
   "source": [
    "df"
   ]
  },
  {
   "cell_type": "code",
   "execution_count": 13,
   "id": "935d8326-34f0-4cd0-8e2f-45e1a264b174",
   "metadata": {},
   "outputs": [
    {
     "data": {
      "text/plain": [
       "\"\\n\\nI am sure some bashers of Pens fans are pretty confused about the lack\\nof any kind of posts about the recent Pens massacre of the Devils. Actually,\\nI am  bit puzzled too and a bit relieved. However, I am going to put an end\\nto non-PIttsburghers' relief with a bit of praise for the Pens. Man, they\\nare killing those Devils worse than I thought. Jagr just showed you why\\nhe is much better than his regular season stats. He is also a lot\\nfo fun to watch in the playoffs. Bowman should let JAgr have a lot of\\nfun in the next couple of games since the Pens are going to beat the pulp out of Jersey anyway. I was very disappointed not to see the Islanders lose the final\\nregular season game.          PENS RULE!!!\\n\\n\""
      ]
     },
     "execution_count": 13,
     "metadata": {},
     "output_type": "execute_result"
    }
   ],
   "source": [
    "df.text[0]"
   ]
  },
  {
   "cell_type": "code",
   "execution_count": 14,
   "id": "c89f5722-ad37-48bd-8928-df9e8c90fab5",
   "metadata": {},
   "outputs": [
    {
     "data": {
      "text/plain": [
       "labels\n",
       "rec.sport.hockey            999\n",
       "soc.religion.christian      997\n",
       "rec.motorcycles             996\n",
       "rec.sport.baseball          994\n",
       "sci.crypt                   991\n",
       "rec.autos                   990\n",
       "sci.med                     990\n",
       "comp.windows.x              988\n",
       "sci.space                   987\n",
       "comp.os.ms-windows.misc     985\n",
       "sci.electronics             984\n",
       "comp.sys.ibm.pc.hardware    982\n",
       "misc.forsale                975\n",
       "comp.graphics               973\n",
       "comp.sys.mac.hardware       963\n",
       "talk.politics.mideast       940\n",
       "talk.politics.guns          910\n",
       "alt.atheism                 799\n",
       "talk.politics.misc          775\n",
       "talk.religion.misc          628\n",
       "Name: count, dtype: int64"
      ]
     },
     "execution_count": 14,
     "metadata": {},
     "output_type": "execute_result"
    }
   ],
   "source": [
    "df.labels.value_counts()"
   ]
  },
  {
   "cell_type": "code",
   "execution_count": 15,
   "id": "455fc4c7-cabe-4988-af32-6fd421ea3248",
   "metadata": {},
   "outputs": [
    {
     "data": {
      "image/png": "[encoded data removed]",
      "text/plain": [
       "<Figure size 1000x600 with 1 Axes>"
      ]
     },
     "metadata": {},
     "output_type": "display_data"
    }
   ],
   "source": [
    "# Visualize the distribution of categories\n",
    "plt.figure(figsize=(10, 6))\n",
    "df['labels'].value_counts().plot(kind='bar', colormap='viridis')\n",
    "plt.title('Distribution of Categories')\n",
    "plt.xlabel('Categories')\n",
    "plt.ylabel('Count')\n",
    "plt.show()"
   ]
  },
  {
   "cell_type": "code",
   "execution_count": null,
   "id": "0c99231c-d6ff-48e9-af0d-cd9fd73db866",
   "metadata": {},
   "outputs": [],
   "source": []
  },
  {
   "cell_type": "markdown",
   "id": "164b0043-bb1d-45a2-a0d9-0a4f8b54552f",
   "metadata": {},
   "source": [
    "# Data Preprocessing"
   ]
  },
  {
   "cell_type": "code",
   "execution_count": 16,
   "id": "36af49da-e04b-46ab-9ee4-1552c95992d2",
   "metadata": {},
   "outputs": [],
   "source": [
    "from gensim.parsing.preprocessing import preprocess_string\n",
    "from gensim.parsing.preprocessing import strip_tags, strip_numeric, strip_punctuation, strip_multiple_whitespaces, stem_text\n",
    "from nltk.tokenize import word_tokenize\n",
    "from nltk.corpus import stopwords\n",
    "from nltk.stem import WordNetLemmatizer\n",
    "\n"
   ]
  },
  {
   "cell_type": "code",
   "execution_count": 17,
   "id": "29c56417-9355-43f6-889c-ae7bd67fcbc3",
   "metadata": {},
   "outputs": [
    {
     "name": "stderr",
     "output_type": "stream",
     "text": [
      "[nltk_data] Downloading package stopwords to\n",
      "[nltk_data]     C:\\Users\\vidva\\AppData\\Roaming\\nltk_data...\n",
      "[nltk_data]   Package stopwords is already up-to-date!\n",
      "[nltk_data] Downloading package wordnet to\n",
      "[nltk_data]     C:\\Users\\vidva\\AppData\\Roaming\\nltk_data...\n",
      "[nltk_data]   Package wordnet is already up-to-date!\n"
     ]
    },
    {
     "data": {
      "text/plain": [
       "True"
      ]
     },
     "execution_count": 17,
     "metadata": {},
     "output_type": "execute_result"
    }
   ],
   "source": [
    "import nltk\n",
    "nltk.download('stopwords')\n",
    "nltk.download('wordnet')"
   ]
  },
  {
   "cell_type": "code",
   "execution_count": 18,
   "id": "f9195961-b830-4aee-afff-e71d3648c383",
   "metadata": {},
   "outputs": [
    {
     "name": "stderr",
     "output_type": "stream",
     "text": [
      "[nltk_data] Downloading package punkt to\n",
      "[nltk_data]     C:\\Users\\vidva\\AppData\\Roaming\\nltk_data...\n",
      "[nltk_data]   Package punkt is already up-to-date!\n"
     ]
    },
    {
     "data": {
      "text/plain": [
       "True"
      ]
     },
     "execution_count": 18,
     "metadata": {},
     "output_type": "execute_result"
    }
   ],
   "source": [
    "nltk.download('punkt')"
   ]
  },
  {
   "cell_type": "code",
   "execution_count": 23,
   "id": "11a3dfe9-5991-4f9d-b947-76275e5ba17f",
   "metadata": {},
   "outputs": [],
   "source": [
    "def preprocess_text(text):\n",
    "    # Gensim preprocessing\n",
    "    filters = [\n",
    "        lambda x: x.lower(),           # Convert to lowercase\n",
    "        strip_tags,                    # Remove HTML tags\n",
    "        strip_numeric,                 # Remove numbers\n",
    "        strip_punctuation,             # Remove punctuation\n",
    "        strip_multiple_whitespaces     # Remove extra whitespaces\n",
    "    ]\n",
    "    text = ' '.join(preprocess_string(text, filters=filters))\n",
    "    \n",
    "    # NLTK preprocessing\n",
    "    stop_words = set(stopwords.words('english'))\n",
    "    words = word_tokenize(text)\n",
    "    filtered_words = [word for word in words if word not in stop_words] # Stopwords Removal\n",
    "    lemmatizer = WordNetLemmatizer()\n",
    "    lemmatized_words = [lemmatizer.lemmatize(word) for word in filtered_words] # lemmatize words\n",
    "    return ' '.join(lemmatized_words)\n"
   ]
  },
  {
   "cell_type": "code",
   "execution_count": 24,
   "id": "52360978-459a-48e9-b164-bcdf602db446",
   "metadata": {},
   "outputs": [
    {
     "data": {
      "text/plain": [
       "\"\\n\\nI am sure some bashers of Pens fans are pretty confused about the lack\\nof any kind of posts about the recent Pens massacre of the Devils. Actually,\\nI am  bit puzzled too and a bit relieved. However, I am going to put an end\\nto non-PIttsburghers' relief with a bit of praise for the Pens. Man, they\\nare killing those Devils worse than I thought. Jagr just showed you why\\nhe is much better than his regular season stats. He is also a lot\\nfo fun to watch in the playoffs. Bowman should let JAgr have a lot of\\nfun in the next couple of games since the Pens are going to beat the pulp out of Jersey anyway. I was very disappointed not to see the Islanders lose the final\\nregular season game.          PENS RULE!!!\\n\\n\""
      ]
     },
     "execution_count": 24,
     "metadata": {},
     "output_type": "execute_result"
    }
   ],
   "source": [
    "df.text[0]"
   ]
  },
  {
   "cell_type": "code",
   "execution_count": 25,
   "id": "c88a56d1-02a9-4d11-9ab2-b761bb97ab1e",
   "metadata": {},
   "outputs": [],
   "source": [
    "df_preprocessed=df.copy()"
   ]
  },
  {
   "cell_type": "code",
   "execution_count": 26,
   "id": "946eba6c-d6f7-4678-b3cc-5c290ab97140",
   "metadata": {},
   "outputs": [],
   "source": [
    "df_preprocessed['text'] = df['text'].apply(preprocess_text)\n"
   ]
  },
  {
   "cell_type": "code",
   "execution_count": 27,
   "id": "396b5594-afe3-4620-a049-8ea1dca24d68",
   "metadata": {},
   "outputs": [
    {
     "data": {
      "text/plain": [
       "'sure bashers pen fan pretty confused lack kind post recent pen massacre devil actually bit puzzled bit relieved however going put end non pittsburghers relief bit praise pen man killing devil worse thought jagr showed much better regular season stats also lot fo fun watch playoff bowman let jagr lot fun next couple game since pen going beat pulp jersey anyway disappointed see islander lose final regular season game pen rule'"
      ]
     },
     "execution_count": 27,
     "metadata": {},
     "output_type": "execute_result"
    }
   ],
   "source": [
    "df_preprocessed['text'][0]"
   ]
  },
  {
   "cell_type": "code",
   "execution_count": 28,
   "id": "7477bdf4-94d0-4f34-b25d-75791127f271",
   "metadata": {},
   "outputs": [],
   "source": [
    "def extract_features(text):\n",
    "    tokens = word_tokenize(text)\n",
    "    num_words = len(tokens)\n",
    "    num_unique_words = len(set(tokens))\n",
    "    lexical_diversity = num_words / num_unique_words if num_unique_words != 0 else 0\n",
    "    return pd.Series([num_words, num_unique_words, lexical_diversity])"
   ]
  },
  {
   "cell_type": "code",
   "execution_count": 29,
   "id": "9c5a1923-8275-41bf-9ff3-cd76ad4db0ff",
   "metadata": {},
   "outputs": [],
   "source": [
    "# Apply the function to the DataFrame\n",
    "df_features = df_preprocessed['text'].apply(extract_features)\n",
    "df_features.columns = ['Number of Words', 'Number of Unique Words', 'Lexical Diversity']\n"
   ]
  },
  {
   "cell_type": "code",
   "execution_count": 30,
   "id": "41e0158f-e699-42ee-9651-8711e8600da6",
   "metadata": {},
   "outputs": [],
   "source": [
    "# Concatenate the features with the original DataFrame\n",
    "df_combined = pd.concat([df_preprocessed, df_features], axis=1)"
   ]
  },
  {
   "cell_type": "code",
   "execution_count": 31,
   "id": "0722c4d2-bc9c-43dd-a317-da9f384650e8",
   "metadata": {},
   "outputs": [
    {
     "data": {
      "text/plain": [
       "Index(['text', 'label', 'labels', 'Number of Words', 'Number of Unique Words',\n",
       "       'Lexical Diversity'],\n",
       "      dtype='object')"
      ]
     },
     "execution_count": 31,
     "metadata": {},
     "output_type": "execute_result"
    }
   ],
   "source": [
    "df_combined.columns"
   ]
  },
  {
   "cell_type": "code",
   "execution_count": 32,
   "id": "63f55d60-034f-45c5-b7e2-3194ecebe0f9",
   "metadata": {},
   "outputs": [],
   "source": [
    "new_order = ['text','Number of Words', 'Number of Unique Words',\n",
    "       'Lexical Diversity','label', 'labels',]\n",
    "df_combined=df_combined[new_order]\n"
   ]
  },
  {
   "cell_type": "code",
   "execution_count": 33,
   "id": "621a0dd7-c290-4372-bbf0-90704956b4f6",
   "metadata": {},
   "outputs": [
    {
     "data": {
      "text/html": [
       "<div>\n",
       "<style scoped>\n",
       "    .dataframe tbody tr th:only-of-type {\n",
       "        vertical-align: middle;\n",
       "    }\n",
       "\n",
       "    .dataframe tbody tr th {\n",
       "        vertical-align: top;\n",
       "    }\n",
       "\n",
       "    .dataframe thead th {\n",
       "        text-align: right;\n",
       "    }\n",
       "</style>\n",
       "<table border=\"1\" class=\"dataframe\">\n",
       "  <thead>\n",
       "    <tr style=\"text-align: right;\">\n",
       "      <th></th>\n",
       "      <th>text</th>\n",
       "      <th>Number of Words</th>\n",
       "      <th>Number of Unique Words</th>\n",
       "      <th>Lexical Diversity</th>\n",
       "      <th>label</th>\n",
       "      <th>labels</th>\n",
       "    </tr>\n",
       "  </thead>\n",
       "  <tbody>\n",
       "    <tr>\n",
       "      <th>0</th>\n",
       "      <td>sure bashers pen fan pretty confused lack kind...</td>\n",
       "      <td>71.0</td>\n",
       "      <td>57.0</td>\n",
       "      <td>1.245614</td>\n",
       "      <td>10</td>\n",
       "      <td>rec.sport.hockey</td>\n",
       "    </tr>\n",
       "    <tr>\n",
       "      <th>1</th>\n",
       "      <td>brother market high performance video card sup...</td>\n",
       "      <td>35.0</td>\n",
       "      <td>29.0</td>\n",
       "      <td>1.206897</td>\n",
       "      <td>3</td>\n",
       "      <td>comp.sys.ibm.pc.hardware</td>\n",
       "    </tr>\n",
       "    <tr>\n",
       "      <th>2</th>\n",
       "      <td>finally said dream mediterranean new area grea...</td>\n",
       "      <td>115.0</td>\n",
       "      <td>93.0</td>\n",
       "      <td>1.236559</td>\n",
       "      <td>17</td>\n",
       "      <td>talk.politics.mideast</td>\n",
       "    </tr>\n",
       "    <tr>\n",
       "      <th>3</th>\n",
       "      <td>think scsi card dma transfer disk scsi card dm...</td>\n",
       "      <td>71.0</td>\n",
       "      <td>40.0</td>\n",
       "      <td>1.775000</td>\n",
       "      <td>3</td>\n",
       "      <td>comp.sys.ibm.pc.hardware</td>\n",
       "    </tr>\n",
       "    <tr>\n",
       "      <th>4</th>\n",
       "      <td>old jasmine drive use new system understanding...</td>\n",
       "      <td>55.0</td>\n",
       "      <td>40.0</td>\n",
       "      <td>1.375000</td>\n",
       "      <td>4</td>\n",
       "      <td>comp.sys.mac.hardware</td>\n",
       "    </tr>\n",
       "    <tr>\n",
       "      <th>...</th>\n",
       "      <td>...</td>\n",
       "      <td>...</td>\n",
       "      <td>...</td>\n",
       "      <td>...</td>\n",
       "      <td>...</td>\n",
       "      <td>...</td>\n",
       "    </tr>\n",
       "    <tr>\n",
       "      <th>18841</th>\n",
       "      <td>dn nyeda cnsvax uwec edu david nye dn neurolog...</td>\n",
       "      <td>165.0</td>\n",
       "      <td>120.0</td>\n",
       "      <td>1.375000</td>\n",
       "      <td>13</td>\n",
       "      <td>sci.med</td>\n",
       "    </tr>\n",
       "    <tr>\n",
       "      <th>18842</th>\n",
       "      <td>isolated ground recepticles usually unusual co...</td>\n",
       "      <td>18.0</td>\n",
       "      <td>17.0</td>\n",
       "      <td>1.058824</td>\n",
       "      <td>12</td>\n",
       "      <td>sci.electronics</td>\n",
       "    </tr>\n",
       "    <tr>\n",
       "      <th>18843</th>\n",
       "      <td>installed dx cpu clone motherboard tried mount...</td>\n",
       "      <td>50.0</td>\n",
       "      <td>36.0</td>\n",
       "      <td>1.388889</td>\n",
       "      <td>3</td>\n",
       "      <td>comp.sys.ibm.pc.hardware</td>\n",
       "    </tr>\n",
       "    <tr>\n",
       "      <th>18844</th>\n",
       "      <td>require hyper sphere space point specifies sph...</td>\n",
       "      <td>25.0</td>\n",
       "      <td>21.0</td>\n",
       "      <td>1.190476</td>\n",
       "      <td>1</td>\n",
       "      <td>comp.graphics</td>\n",
       "    </tr>\n",
       "    <tr>\n",
       "      <th>18845</th>\n",
       "      <td>tip gary crum crum fcom cc utah edu got phone ...</td>\n",
       "      <td>128.0</td>\n",
       "      <td>107.0</td>\n",
       "      <td>1.196262</td>\n",
       "      <td>7</td>\n",
       "      <td>rec.autos</td>\n",
       "    </tr>\n",
       "  </tbody>\n",
       "</table>\n",
       "<p>18846 rows × 6 columns</p>\n",
       "</div>"
      ],
      "text/plain": [
       "                                                    text  Number of Words  \\\n",
       "0      sure bashers pen fan pretty confused lack kind...             71.0   \n",
       "1      brother market high performance video card sup...             35.0   \n",
       "2      finally said dream mediterranean new area grea...            115.0   \n",
       "3      think scsi card dma transfer disk scsi card dm...             71.0   \n",
       "4      old jasmine drive use new system understanding...             55.0   \n",
       "...                                                  ...              ...   \n",
       "18841  dn nyeda cnsvax uwec edu david nye dn neurolog...            165.0   \n",
       "18842  isolated ground recepticles usually unusual co...             18.0   \n",
       "18843  installed dx cpu clone motherboard tried mount...             50.0   \n",
       "18844  require hyper sphere space point specifies sph...             25.0   \n",
       "18845  tip gary crum crum fcom cc utah edu got phone ...            128.0   \n",
       "\n",
       "       Number of Unique Words  Lexical Diversity  label  \\\n",
       "0                        57.0           1.245614     10   \n",
       "1                        29.0           1.206897      3   \n",
       "2                        93.0           1.236559     17   \n",
       "3                        40.0           1.775000      3   \n",
       "4                        40.0           1.375000      4   \n",
       "...                       ...                ...    ...   \n",
       "18841                   120.0           1.375000     13   \n",
       "18842                    17.0           1.058824     12   \n",
       "18843                    36.0           1.388889      3   \n",
       "18844                    21.0           1.190476      1   \n",
       "18845                   107.0           1.196262      7   \n",
       "\n",
       "                         labels  \n",
       "0              rec.sport.hockey  \n",
       "1      comp.sys.ibm.pc.hardware  \n",
       "2         talk.politics.mideast  \n",
       "3      comp.sys.ibm.pc.hardware  \n",
       "4         comp.sys.mac.hardware  \n",
       "...                         ...  \n",
       "18841                   sci.med  \n",
       "18842           sci.electronics  \n",
       "18843  comp.sys.ibm.pc.hardware  \n",
       "18844             comp.graphics  \n",
       "18845                 rec.autos  \n",
       "\n",
       "[18846 rows x 6 columns]"
      ]
     },
     "execution_count": 33,
     "metadata": {},
     "output_type": "execute_result"
    }
   ],
   "source": [
    "df_combined"
   ]
  },
  {
   "cell_type": "code",
   "execution_count": 34,
   "id": "b3b36f4c-49bb-473f-a93a-33c8cc3d8788",
   "metadata": {},
   "outputs": [],
   "source": [
    "### Text vectorization using Tok2Vec"
   ]
  },
  {
   "cell_type": "code",
   "execution_count": 35,
   "id": "9b0c6cb1-6784-4396-ba66-6e32589cb0c6",
   "metadata": {},
   "outputs": [],
   "source": [
    "import spacy\n"
   ]
  },
  {
   "cell_type": "code",
   "execution_count": 36,
   "id": "dbb08c99-658b-40bb-a065-cb68e4c96a69",
   "metadata": {},
   "outputs": [],
   "source": [
    "# Load the pre-trained spaCy model\n",
    "nlp = spacy.load('en_core_web_md') # en_core_web_md: 300 dimensions output vector"
   ]
  },
  {
   "cell_type": "code",
   "execution_count": 37,
   "id": "f737c0a8-bd65-4ff4-bbc1-ecd93e5faa47",
   "metadata": {},
   "outputs": [],
   "source": [
    "# Define a function to vectorize text using Tok2Vec\n",
    "def tok2vec_text(text):\n",
    "    doc = nlp(text)\n",
    "    return doc.vector"
   ]
  },
  {
   "cell_type": "code",
   "execution_count": 38,
   "id": "11903885-6f03-492c-a3b9-cd01dabc412c",
   "metadata": {},
   "outputs": [],
   "source": [
    "df_vectorized=df_combined.copy()"
   ]
  },
  {
   "cell_type": "code",
   "execution_count": 39,
   "id": "685ccf6a-2f5f-4528-815e-25175624f2ba",
   "metadata": {},
   "outputs": [],
   "source": [
    "df_vectorized['text']=df_combined['text'].apply(tok2vec_text)"
   ]
  },
  {
   "cell_type": "code",
   "execution_count": 40,
   "id": "133a043b-b2a5-4093-9078-d017d46ffa05",
   "metadata": {},
   "outputs": [
    {
     "data": {
      "text/plain": [
       "array([-0.5290401 ,  1.3665133 , -0.80768013, -0.391093  ,  0.55689067,\n",
       "        0.33154446,  1.8073161 ,  2.714442  , -2.6122181 , -0.07551432,\n",
       "        3.7629652 ,  1.1847286 , -2.450965  ,  1.8070352 ,  1.8604664 ,\n",
       "        0.3958476 ,  2.126121  , -0.5786323 , -0.15223409,  0.80713636,\n",
       "        1.0492859 ,  1.4912091 , -0.3116918 , -2.1965754 , -0.5127056 ,\n",
       "       -1.1329111 , -1.9686972 , -0.4791132 ,  1.7754751 ,  2.5724235 ,\n",
       "        0.74684805,  0.02054464,  0.59592146, -1.7114164 ,  0.04092147,\n",
       "       -0.69241256, -0.6097008 ,  1.333709  ,  1.8511705 ,  1.7939404 ,\n",
       "       -0.0462229 ,  0.7908052 ,  0.9251741 , -1.0419655 ,  0.161952  ,\n",
       "        0.9163266 ,  0.21859902, -2.6292315 , -0.8687938 ,  1.3844137 ,\n",
       "        0.8892482 ,  0.7273922 ,  0.33432427, -2.805944  , -1.3874774 ,\n",
       "        1.0836573 , -0.23773591,  1.4190973 ,  2.4199955 ,  1.1038015 ,\n",
       "        0.6630726 ,  0.65135735, -0.5639538 , -2.07662   ,  0.35438547,\n",
       "        1.0698111 , -2.7709599 , -2.1313617 , -1.3584014 ,  1.867722  ,\n",
       "        1.3863695 , -0.25746897, -0.7094904 , -0.9128907 ,  0.66493887,\n",
       "        0.8850033 , -0.64042044,  0.58938843, -0.43228444, -0.4239387 ,\n",
       "       -2.7994382 , -1.3546158 ,  1.5419291 ,  0.04978734,  0.94067836,\n",
       "       -0.7927632 ,  1.3348705 , -1.5840753 , -0.51727504, -0.47689304,\n",
       "       -2.043432  ,  0.8982138 ,  1.4799514 , -2.6418068 ,  0.96528214,\n",
       "       -1.3315675 ,  0.6161357 , -1.5262266 ,  0.13129526, -0.9523801 ,\n",
       "        0.15419015,  0.25527665,  1.4671639 ,  2.9386585 , -0.47215304,\n",
       "        1.2545829 , -3.0513034 ,  0.11722898, -0.7560798 , -1.5452775 ,\n",
       "       -0.47490624, -1.4937724 ,  1.1867511 ,  0.00600419, -0.6222582 ,\n",
       "        1.2711098 , -2.104524  , -1.1905347 ,  0.41794991, -0.11671297,\n",
       "       -1.0152795 , -1.3785567 , -1.6098617 ,  0.60904706, -0.24030583,\n",
       "       -0.3538307 ,  0.8274875 , -0.11910143,  0.79636544, -0.31560513,\n",
       "       -1.1512275 , -0.10231673,  1.4705249 , -0.3322457 ,  0.29512623,\n",
       "       -0.21904461, -1.1128106 , -1.0396944 ,  3.1219392 , -1.6436877 ,\n",
       "       -1.2165502 , -0.24099562, -0.36731988,  0.4237142 , -1.0693723 ,\n",
       "        0.02725049, -2.345917  , -0.6394524 , -0.25401565,  0.50254947,\n",
       "       -0.96481055,  0.29631224,  0.3509948 ,  0.31524742, -0.9161093 ,\n",
       "        1.6444529 ,  3.4209063 ,  0.60363036, -0.46189913, -0.9017073 ,\n",
       "       -0.917292  , -1.4681904 ,  0.16853812,  0.15769951, -1.5753057 ,\n",
       "        0.46331567, -1.1361902 , -0.04922713, -0.535419  ,  0.7765799 ,\n",
       "        2.156943  ,  1.5624493 ,  0.0420066 , -0.23177424,  0.66689825,\n",
       "       -0.7064173 , -0.72243404,  0.3630968 ,  0.32937902, -0.67615616,\n",
       "       -0.9483043 ,  0.27888006,  2.8586612 ,  0.9195962 , -1.3413603 ,\n",
       "        1.3047577 , -0.06494872, -2.304639  ,  1.7244557 ,  1.0895666 ,\n",
       "       -0.28510013,  1.3758492 , -1.7620322 , -0.73264873, -0.01422028,\n",
       "       -2.126523  , -2.229159  ,  0.0753491 , -0.90535027,  3.6596653 ,\n",
       "       -1.0483319 , -0.34126002, -1.3776785 , -2.521591  , -0.68131924,\n",
       "        0.7709801 , -1.3541586 ,  0.60564774,  0.10731645,  0.8553808 ,\n",
       "        0.70684963, -0.03919715,  0.80656224,  1.071068  , -0.20120108,\n",
       "        2.4802105 ,  0.32512054, -0.82511884, -1.3488194 , -0.0928985 ,\n",
       "       -1.2202445 , -0.44571862, -0.01748722,  1.2546968 , -0.79618716,\n",
       "       -1.8080878 , -0.25766566,  1.5328199 ,  2.3219948 ,  1.3214527 ,\n",
       "       -0.3025802 , -2.251892  , -0.43784237, -0.6512484 , -0.31388065,\n",
       "        1.0922142 , -1.2456588 ,  1.8315759 , -0.26361823, -0.31219697,\n",
       "       -2.0134943 , -0.7801966 , -0.06491069,  0.9295139 , -0.07715772,\n",
       "       -0.0870114 , -0.7219652 ,  0.10462673,  0.85341257,  1.3426318 ,\n",
       "       -0.02244669, -0.18641177, -2.9044938 ,  0.96550375,  0.9826744 ,\n",
       "       -1.5426195 , -0.12528719,  0.83724654,  0.2793903 ,  0.6194379 ,\n",
       "        0.03674817,  1.6449928 ,  1.0170522 ,  0.56053334,  1.0005267 ,\n",
       "        0.23810503, -0.30128056,  0.7962696 , -3.0211549 ,  0.6780085 ,\n",
       "        1.3658528 , -1.2907754 , -0.13231191, -0.29628384, -0.09127296,\n",
       "       -1.0969222 ,  0.598733  , -0.4837479 , -0.01751295,  1.5232924 ,\n",
       "       -0.03228934, -1.0146109 ,  0.50023735,  0.30862027,  3.498536  ,\n",
       "       -0.3269999 , -0.3763082 , -0.50700766, -1.6516762 ,  1.0772597 ,\n",
       "        1.6843483 , -1.1292259 ,  1.5503285 ,  0.1570122 , -1.3695489 ,\n",
       "       -0.23390633,  1.0188515 ,  0.3006673 , -1.9624615 ,  0.29060757],\n",
       "      dtype=float32)"
      ]
     },
     "execution_count": 40,
     "metadata": {},
     "output_type": "execute_result"
    }
   ],
   "source": [
    "df_vectorized.text[0]"
   ]
  },
  {
   "cell_type": "code",
   "execution_count": 41,
   "id": "083ba42a-e6c2-4f50-800e-f16d58c16abc",
   "metadata": {},
   "outputs": [
    {
     "data": {
      "text/plain": [
       "(300,)"
      ]
     },
     "execution_count": 41,
     "metadata": {},
     "output_type": "execute_result"
    }
   ],
   "source": [
    "df_vectorized.text[0].shape\n"
   ]
  },
  {
   "cell_type": "code",
   "execution_count": 42,
   "id": "f30d16d8-8871-491f-a1ce-a0e72452e31f",
   "metadata": {},
   "outputs": [
    {
     "data": {
      "text/html": [
       "<div>\n",
       "<style scoped>\n",
       "    .dataframe tbody tr th:only-of-type {\n",
       "        vertical-align: middle;\n",
       "    }\n",
       "\n",
       "    .dataframe tbody tr th {\n",
       "        vertical-align: top;\n",
       "    }\n",
       "\n",
       "    .dataframe thead th {\n",
       "        text-align: right;\n",
       "    }\n",
       "</style>\n",
       "<table border=\"1\" class=\"dataframe\">\n",
       "  <thead>\n",
       "    <tr style=\"text-align: right;\">\n",
       "      <th></th>\n",
       "      <th>text</th>\n",
       "      <th>Number of Words</th>\n",
       "      <th>Number of Unique Words</th>\n",
       "      <th>Lexical Diversity</th>\n",
       "      <th>label</th>\n",
       "      <th>labels</th>\n",
       "    </tr>\n",
       "  </thead>\n",
       "  <tbody>\n",
       "    <tr>\n",
       "      <th>0</th>\n",
       "      <td>[-0.5290401, 1.3665133, -0.80768013, -0.391093...</td>\n",
       "      <td>71.0</td>\n",
       "      <td>57.0</td>\n",
       "      <td>1.245614</td>\n",
       "      <td>10</td>\n",
       "      <td>rec.sport.hockey</td>\n",
       "    </tr>\n",
       "    <tr>\n",
       "      <th>1</th>\n",
       "      <td>[-0.27918544, 0.26646057, -2.0142102, 0.874655...</td>\n",
       "      <td>35.0</td>\n",
       "      <td>29.0</td>\n",
       "      <td>1.206897</td>\n",
       "      <td>3</td>\n",
       "      <td>comp.sys.ibm.pc.hardware</td>\n",
       "    </tr>\n",
       "    <tr>\n",
       "      <th>2</th>\n",
       "      <td>[-0.85621387, 0.5165809, -1.5286032, 0.0605149...</td>\n",
       "      <td>115.0</td>\n",
       "      <td>93.0</td>\n",
       "      <td>1.236559</td>\n",
       "      <td>17</td>\n",
       "      <td>talk.politics.mideast</td>\n",
       "    </tr>\n",
       "    <tr>\n",
       "      <th>3</th>\n",
       "      <td>[-0.2679573, 1.6229212, -0.97719175, 0.5954116...</td>\n",
       "      <td>71.0</td>\n",
       "      <td>40.0</td>\n",
       "      <td>1.775000</td>\n",
       "      <td>3</td>\n",
       "      <td>comp.sys.ibm.pc.hardware</td>\n",
       "    </tr>\n",
       "    <tr>\n",
       "      <th>4</th>\n",
       "      <td>[-1.3925172, 1.2192382, -1.3127025, 0.8323619,...</td>\n",
       "      <td>55.0</td>\n",
       "      <td>40.0</td>\n",
       "      <td>1.375000</td>\n",
       "      <td>4</td>\n",
       "      <td>comp.sys.mac.hardware</td>\n",
       "    </tr>\n",
       "    <tr>\n",
       "      <th>...</th>\n",
       "      <td>...</td>\n",
       "      <td>...</td>\n",
       "      <td>...</td>\n",
       "      <td>...</td>\n",
       "      <td>...</td>\n",
       "      <td>...</td>\n",
       "    </tr>\n",
       "    <tr>\n",
       "      <th>18841</th>\n",
       "      <td>[0.08148231, 1.3002092, -1.4304898, 0.08138586...</td>\n",
       "      <td>165.0</td>\n",
       "      <td>120.0</td>\n",
       "      <td>1.375000</td>\n",
       "      <td>13</td>\n",
       "      <td>sci.med</td>\n",
       "    </tr>\n",
       "    <tr>\n",
       "      <th>18842</th>\n",
       "      <td>[-1.1234587, 0.40256727, -1.458515, 2.0014877,...</td>\n",
       "      <td>18.0</td>\n",
       "      <td>17.0</td>\n",
       "      <td>1.058824</td>\n",
       "      <td>12</td>\n",
       "      <td>sci.electronics</td>\n",
       "    </tr>\n",
       "    <tr>\n",
       "      <th>18843</th>\n",
       "      <td>[-0.80695814, 2.2261071, -2.3406491, 2.7006981...</td>\n",
       "      <td>50.0</td>\n",
       "      <td>36.0</td>\n",
       "      <td>1.388889</td>\n",
       "      <td>3</td>\n",
       "      <td>comp.sys.ibm.pc.hardware</td>\n",
       "    </tr>\n",
       "    <tr>\n",
       "      <th>18844</th>\n",
       "      <td>[0.24530001, 2.7510352, -1.6876504, -0.2093403...</td>\n",
       "      <td>25.0</td>\n",
       "      <td>21.0</td>\n",
       "      <td>1.190476</td>\n",
       "      <td>1</td>\n",
       "      <td>comp.graphics</td>\n",
       "    </tr>\n",
       "    <tr>\n",
       "      <th>18845</th>\n",
       "      <td>[-0.18604699, 0.466077, -1.6769196, 0.04467887...</td>\n",
       "      <td>128.0</td>\n",
       "      <td>107.0</td>\n",
       "      <td>1.196262</td>\n",
       "      <td>7</td>\n",
       "      <td>rec.autos</td>\n",
       "    </tr>\n",
       "  </tbody>\n",
       "</table>\n",
       "<p>18846 rows × 6 columns</p>\n",
       "</div>"
      ],
      "text/plain": [
       "                                                    text  Number of Words  \\\n",
       "0      [-0.5290401, 1.3665133, -0.80768013, -0.391093...             71.0   \n",
       "1      [-0.27918544, 0.26646057, -2.0142102, 0.874655...             35.0   \n",
       "2      [-0.85621387, 0.5165809, -1.5286032, 0.0605149...            115.0   \n",
       "3      [-0.2679573, 1.6229212, -0.97719175, 0.5954116...             71.0   \n",
       "4      [-1.3925172, 1.2192382, -1.3127025, 0.8323619,...             55.0   \n",
       "...                                                  ...              ...   \n",
       "18841  [0.08148231, 1.3002092, -1.4304898, 0.08138586...            165.0   \n",
       "18842  [-1.1234587, 0.40256727, -1.458515, 2.0014877,...             18.0   \n",
       "18843  [-0.80695814, 2.2261071, -2.3406491, 2.7006981...             50.0   \n",
       "18844  [0.24530001, 2.7510352, -1.6876504, -0.2093403...             25.0   \n",
       "18845  [-0.18604699, 0.466077, -1.6769196, 0.04467887...            128.0   \n",
       "\n",
       "       Number of Unique Words  Lexical Diversity  label  \\\n",
       "0                        57.0           1.245614     10   \n",
       "1                        29.0           1.206897      3   \n",
       "2                        93.0           1.236559     17   \n",
       "3                        40.0           1.775000      3   \n",
       "4                        40.0           1.375000      4   \n",
       "...                       ...                ...    ...   \n",
       "18841                   120.0           1.375000     13   \n",
       "18842                    17.0           1.058824     12   \n",
       "18843                    36.0           1.388889      3   \n",
       "18844                    21.0           1.190476      1   \n",
       "18845                   107.0           1.196262      7   \n",
       "\n",
       "                         labels  \n",
       "0              rec.sport.hockey  \n",
       "1      comp.sys.ibm.pc.hardware  \n",
       "2         talk.politics.mideast  \n",
       "3      comp.sys.ibm.pc.hardware  \n",
       "4         comp.sys.mac.hardware  \n",
       "...                         ...  \n",
       "18841                   sci.med  \n",
       "18842           sci.electronics  \n",
       "18843  comp.sys.ibm.pc.hardware  \n",
       "18844             comp.graphics  \n",
       "18845                 rec.autos  \n",
       "\n",
       "[18846 rows x 6 columns]"
      ]
     },
     "execution_count": 42,
     "metadata": {},
     "output_type": "execute_result"
    }
   ],
   "source": [
    "df_vectorized"
   ]
  },
  {
   "cell_type": "code",
   "execution_count": 43,
   "id": "1f20249f-0c47-4ddf-a8b7-8e06fbd113df",
   "metadata": {},
   "outputs": [],
   "source": [
    "import pickle\n",
    "\n",
    "# Save to a pickle file\n",
    "with open('vectorized_data.pkl', 'wb') as file:\n",
    "    pickle.dump(df_vectorized, file)\n"
   ]
  },
  {
   "cell_type": "code",
   "execution_count": null,
   "id": "75406455-a367-471d-bedc-a1f89d5524e0",
   "metadata": {},
   "outputs": [],
   "source": []
  }
 ],
 "metadata": {
  "kernelspec": {
   "display_name": "Python 3 (ipykernel)",
   "language": "python",
   "name": "python3"
  },
  "language_info": {
   "codemirror_mode": {
    "name": "ipython",
    "version": 3
   },
   "file_extension": ".py",
   "mimetype": "text/x-python",
   "name": "python",
   "nbconvert_exporter": "python",
   "pygments_lexer": "ipython3",
   "version": "3.8.19"
  }
 },
 "nbformat": 4,
 "nbformat_minor": 5
}
